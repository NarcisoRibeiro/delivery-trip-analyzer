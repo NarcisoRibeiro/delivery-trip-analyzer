{
 "cells": [
  {
   "cell_type": "code",
   "execution_count": 3,
   "id": "0bffc548-74b8-47b8-9b77-517e114834e1",
   "metadata": {},
   "outputs": [
    {
     "name": "stdin",
     "output_type": "stream",
     "text": [
      "Distância total da corrida (em km):  12\n",
      "Consumo da moto (km por litro):  30\n",
      "Preço médio da gasolina (euros por litro):  1.80\n",
      "Valor recebido pela corrida (euros):  3\n"
     ]
    },
    {
     "name": "stdout",
     "output_type": "stream",
     "text": [
      "\n",
      "--- Análise da Corrida ---\n",
      "Distância: 12.0 km\n",
      "Combustível usado:  0.40 L\n",
      "Custo com gasolina: €0.72\n",
      "Recebido: €3.00\n",
      "Margem de contribuição: €2.28\n",
      "Lucratividade: 76.00%\n",
      "Lucratividade: 76.00%\n",
      "⚠Alerta, Lucratividade abaixo de 80%. Avalie se a corrida vale a pena.\n"
     ]
    }
   ],
   "source": [
    "try: \n",
    "    # Entrada dos dados\n",
    "    km = float(input(\"Distância total da corrida (em km): \"))\n",
    "    consumo = float(input(\"Consumo da moto (km por litro): \"))\n",
    "    preço_gasolina = float(input(\"Preço médio da gasolina (euros por litro): \"))\n",
    "    rendimento = float(input(\"Valor recebido pela corrida (euros): \"))\n",
    "\n",
    "    # Cálculo do custo variável (combustível)\n",
    "    litros_usados = km / consumo\n",
    "    custo_gasolina = litros_usados * preço_gasolina\n",
    "\n",
    "    # Margem de contribuição\n",
    "    margem_contribuição = rendimento - custo_gasolina\n",
    "\n",
    "    # Exibição dos resultados\n",
    "    print(f\"\\n--- Análise da Corrida ---\")\n",
    "    print(f\"Distância: {km} km\")\n",
    "    print(f\"Combustível usado: {litros_usados: .2f} L\")\n",
    "    print(f\"Custo com gasolina: €{custo_gasolina:.2f}\")\n",
    "    print(f\"Recebido: €{rendimento:.2f}\")\n",
    "    print(f\"Margem de contribuição: €{margem_contribuição:.2f}\")\n",
    "    print(f\"Lucratividade: {(margem_contribuição / rendimento) * 100:.2f}%\")\n",
    "\n",
    "    lucratividade = (margem_contribuição / rendimento) * 100\n",
    "    print(f\"Lucratividade: {lucratividade:.2f}%\")\n",
    "\n",
    "    # Alerta de lucratividade baixa (<80%)\n",
    "    if lucratividade < 80:\n",
    "        print(\"\\u26A0Alerta, Lucratividade abaixo de 80%. Avalie se a corrida vale a pena.\")\n",
    "\n",
    "except ValueError:\n",
    "    print(\"Por favor, insira apenas números válidos.\")\n",
    "    "
   ]
  },
  {
   "cell_type": "code",
   "execution_count": null,
   "id": "90a88aaa-04a3-44b1-8b6f-2397b87a2e35",
   "metadata": {},
   "outputs": [],
   "source": []
  }
 ],
 "metadata": {
  "kernelspec": {
   "display_name": "Python [conda env:base] *",
   "language": "python",
   "name": "conda-base-py"
  },
  "language_info": {
   "codemirror_mode": {
    "name": "ipython",
    "version": 3
   },
   "file_extension": ".py",
   "mimetype": "text/x-python",
   "name": "python",
   "nbconvert_exporter": "python",
   "pygments_lexer": "ipython3",
   "version": "3.12.7"
  }
 },
 "nbformat": 4,
 "nbformat_minor": 5
}
