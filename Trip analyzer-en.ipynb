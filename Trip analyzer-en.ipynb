{
 "cells": [
  {
   "cell_type": "code",
   "execution_count": null,
   "id": "a676517f-d9b4-437d-9451-91046f629be9",
   "metadata": {},
   "outputs": [],
   "source": [
    "try:\n",
    "    # Input data\n",
    "    km = float(input(\"Total distance (in km): \"))\n",
    "    consumption = float(input(\"Fuel consumption (km per L): \"))\n",
    "    fuel_price = float(input(\"Average fuel price (euros per L): \"))\n",
    "    trip_fee = float(input(\"Trip payment (euros): \"))\n",
    "\n",
    "    # Variable cost calculation (fuel)\n",
    "    used_liters = km / consumption\n",
    "    fuel_cost = used_liters * fuel_price\n",
    "\n",
    "    # Contribution margin\n",
    "    contribution_margin = trip_fee - fuel_cost\n",
    "\n",
    "    # Display results\n",
    "    print(\"\\n--- Trip Analysis ---\")\n",
    "    print(f\"Distance: {km} km\")\n",
    "    print(f\"Fuel used: {used_liters:.2f} L\")\n",
    "    print(f\"Fuel cost: €{fuel_cost:.2f}\")\n",
    "    print(f\"Trip payment: €{trip_fee:.2f}\")\n",
    "    print(f\"Contribution margin: €{contribution_margin:.2f}\")\n",
    "\n",
    "    profitability = (contribution_margin / trip_fee) * 100\n",
    "    print(f\"Profitability: {profitability:.2f}%\")\n",
    "\n",
    "    # Low profitability alert (<80%)\n",
    "    if profitability < 80:\n",
    "        print(\"⚠️ Alert: Profitability below 80%. Consider whether the trip is worth it.\")\n",
    "\n",
    "except ValueError:\n",
    "    print(\"Please enter valid numeric values.\")\n"
   ]
  }
 ],
 "metadata": {
  "kernelspec": {
   "display_name": "Python [conda env:base] *",
   "language": "python",
   "name": "conda-base-py"
  },
  "language_info": {
   "codemirror_mode": {
    "name": "ipython",
    "version": 3
   },
   "file_extension": ".py",
   "mimetype": "text/x-python",
   "name": "python",
   "nbconvert_exporter": "python",
   "pygments_lexer": "ipython3",
   "version": "3.12.7"
  }
 },
 "nbformat": 4,
 "nbformat_minor": 5
}
